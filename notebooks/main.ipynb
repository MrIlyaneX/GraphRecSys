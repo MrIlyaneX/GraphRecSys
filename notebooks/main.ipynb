{
 "cells": [
  {
   "cell_type": "markdown",
   "source": [
    "# Necessary imports"
   ],
   "metadata": {
    "collapsed": false
   },
   "id": "4c8e6b3d4e0c7030"
  },
  {
   "cell_type": "code",
   "execution_count": 32,
   "outputs": [],
   "source": [
    "import pandas as pd\n",
    "import networkx as nx\n",
    "import torch\n",
    "from random import shuffle, randint\n",
    "from torch import nn\n",
    "from torch_geometric.data import HeteroData"
   ],
   "metadata": {
    "collapsed": false,
    "ExecuteTime": {
     "end_time": "2024-11-30T07:28:42.874346200Z",
     "start_time": "2024-11-30T07:28:42.866337400Z"
    }
   },
   "id": "c8f2a53fe6c43283"
  },
  {
   "cell_type": "markdown",
   "source": [
    "# Date preprocessing"
   ],
   "metadata": {
    "collapsed": false
   },
   "id": "4aeddbe57101a8c8"
  },
  {
   "cell_type": "code",
   "execution_count": 33,
   "outputs": [],
   "source": [
    "anime = pd.read_csv('../data/anime.csv')\n",
    "rating = pd.read_csv('../data/rating.csv')"
   ],
   "metadata": {
    "collapsed": false,
    "ExecuteTime": {
     "end_time": "2024-11-30T07:28:44.922922200Z",
     "start_time": "2024-11-30T07:28:43.444937400Z"
    }
   },
   "id": "a594b9e26ec637d1"
  },
  {
   "cell_type": "code",
   "execution_count": 34,
   "outputs": [],
   "source": [
    "def get_graph(anime: pd.DataFrame, rating: pd.DataFrame) -> nx.Graph:\n",
    "    anime = anime.copy()\n",
    "    rating = rating.copy()\n",
    "    anime = anime.dropna()\n",
    "    rating = rating.dropna()\n",
    "    anime['genre'] = anime['genre'].str.split(', ')\n",
    "    anime = anime[anime['members'] > 300_000]\n",
    "    mp = {i: j for i, j in zip(anime['name'], anime['anime_id'])}\n",
    "    anime = anime.drop(columns=['name', 'members'])\n",
    "\n",
    "    anime_id = set(anime['anime_id'])\n",
    "    genre = anime.explode('genre')\n",
    "\n",
    "    rating = [(f'user_{i}', f'anime_{j}', r) for i, j, r in zip(rating['user_id'], rating['anime_id'], rating['rating'])\n",
    "              if j in anime_id]\n",
    "    genre = [(f'anime_{i}', f'genre_{j}') for i, j in zip(genre['anime_id'], genre['genre'])]\n",
    "    tp = [(f'anime_{i}', f'type_{j}') for i, j in zip(anime['anime_id'], anime['type'])]\n",
    "\n",
    "    user_id = list(set(i for i, j, r in rating))\n",
    "    anime_id = list(set(j for i, j, r in rating))\n",
    "    genres = list(set(j for i, j in genre))\n",
    "    types = list(set(j for i, j in tp))\n",
    "\n",
    "    G = nx.Graph()\n",
    "\n",
    "    G.add_nodes_from(user_id, node_type=\"user\")\n",
    "    G.add_nodes_from(anime_id, node_type=\"anime\")\n",
    "    G.add_nodes_from(genres, node_type=\"entity\")\n",
    "    G.add_nodes_from(types, node_type=\"entity\")\n",
    "\n",
    "    G.add_weighted_edges_from(rating)\n",
    "    G.add_edges_from(genre)\n",
    "    G.add_edges_from(tp)\n",
    "\n",
    "    return G, mp"
   ],
   "metadata": {
    "collapsed": false,
    "ExecuteTime": {
     "end_time": "2024-11-30T07:28:44.934362300Z",
     "start_time": "2024-11-30T07:28:44.927920900Z"
    }
   },
   "id": "15016bd6897e8926"
  },
  {
   "cell_type": "code",
   "execution_count": 35,
   "outputs": [
    {
     "name": "stdout",
     "output_type": "stream",
     "text": [
      "Graph with 70827 nodes and 1535686 edges\n"
     ]
    }
   ],
   "source": [
    "graph, mp = get_graph(anime, rating)\n",
    "print(graph)"
   ],
   "metadata": {
    "collapsed": false,
    "ExecuteTime": {
     "end_time": "2024-11-30T07:28:49.980377500Z",
     "start_time": "2024-11-30T07:28:44.931362300Z"
    }
   },
   "id": "d6e2a02d2cc05583"
  },
  {
   "cell_type": "code",
   "execution_count": 36,
   "outputs": [],
   "source": [
    "def relational_neighborhood_construction(graph: nx.Graph, mp):\n",
    "    users = [node for node in graph.nodes if node.startswith('user')]\n",
    "    anime = [node for node in graph.nodes if node.startswith('anime')]\n",
    "    types = [node for node in graph.nodes if node.startswith('type')]\n",
    "    genre = [node for node in graph.nodes if node.startswith('genre')]\n",
    "\n",
    "    mp = {j: i for i, j in mp.items()}\n",
    "    anime2idx = {j: i for i, j in enumerate(anime)}\n",
    "    users2idx = {j: len(anime2idx) + i for i, j in enumerate(users)}\n",
    "    mapping = {mp[int(i[6:])]: j for i, j in anime2idx.items()}\n",
    "\n",
    "    data = HeteroData()\n",
    "    data['user'].node_id = torch.tensor(list(users2idx.values()))\n",
    "    data['anime'].node_id = torch.tensor(list(anime2idx.values()))\n",
    "\n",
    "    edges = set()\n",
    "    for user in users:\n",
    "        for anm in graph.neighbors(user):\n",
    "            edges.add((user, anm))\n",
    "    data['user', 'watched', 'anime'].edge_index = torch.tensor([(users2idx[i], anime2idx[j]) for i, j in edges]).T\n",
    "\n",
    "    edges = set()\n",
    "    for gnr in genre:\n",
    "        anm = sorted(graph.neighbors(gnr))\n",
    "        for i in range(len(anm)):\n",
    "            for j in range(i + 1, len(anm)):\n",
    "                edges.add((anm[i], anm[j]))\n",
    "\n",
    "    data['anime', 'genre', 'anime'].edge_index = torch.tensor([(anime2idx[i], anime2idx[j]) for i, j in edges]).T\n",
    "\n",
    "    edges = set()\n",
    "    for tp in types:\n",
    "        anm = sorted(graph.neighbors(tp))\n",
    "        for i in range(len(anm)):\n",
    "            for j in range(i + 1, len(anm)):\n",
    "                edges.add((anm[i], anm[j]))\n",
    "\n",
    "    data['anime', 'type', 'anime'].edge_index = torch.tensor([(anime2idx[i], anime2idx[j]) for i, j in edges]).T\n",
    "\n",
    "    return data, mapping"
   ],
   "metadata": {
    "collapsed": false,
    "ExecuteTime": {
     "end_time": "2024-11-30T07:28:49.990132500Z",
     "start_time": "2024-11-30T07:28:49.980377500Z"
    }
   },
   "id": "954588514b0206e2"
  },
  {
   "cell_type": "code",
   "execution_count": 37,
   "outputs": [
    {
     "name": "stdout",
     "output_type": "stream",
     "text": [
      "HeteroData(\n",
      "  user={ node_id=[70686] },\n",
      "  anime={ node_id=[103] },\n",
      "  (user, watched, anime)={ edge_index=[2, 1535080] },\n",
      "  (anime, genre, anime)={ edge_index=[2, 3757] },\n",
      "  (anime, type, anime)={ edge_index=[2, 4759] }\n",
      ")\n"
     ]
    }
   ],
   "source": [
    "data, mapping = relational_neighborhood_construction(graph, mp)\n",
    "print(data)"
   ],
   "metadata": {
    "collapsed": false,
    "ExecuteTime": {
     "end_time": "2024-11-30T07:28:54.340751500Z",
     "start_time": "2024-11-30T07:28:51.601598300Z"
    }
   },
   "id": "c87466bf98f92efa"
  },
  {
   "cell_type": "code",
   "execution_count": 38,
   "outputs": [],
   "source": [
    "def train_test_split(data, test_size=0.2):\n",
    "    train, test = data.clone(), data.clone()\n",
    "    users = [i.item() for i in data['user'].node_id]\n",
    "    shuffle(users)\n",
    "\n",
    "    idx = int(len(users) * test_size)\n",
    "    train_idx = {j: i + data['anime'].num_nodes for i, j in enumerate(users[idx:])}\n",
    "    test_idx = {j: i + data['anime'].num_nodes for i, j in enumerate(users[:idx])}\n",
    "\n",
    "    train['user'].node_id = torch.tensor([train_idx[i] for i in users[idx:]])\n",
    "    test['user'].node_id = torch.tensor([test_idx[i] for i in users[:idx]])\n",
    "    train_edges, test_edges = [], []\n",
    "\n",
    "    edges = data['user', 'watched', 'anime'].edge_index.cpu().detach().numpy()\n",
    "    for i in range(edges.shape[-1]):\n",
    "        if edges[0][i] in train_idx:\n",
    "            train_edges.append((train_idx[edges[0][i]], edges[1][i]))\n",
    "        else:\n",
    "            test_edges.append((test_idx[edges[0][i]], edges[1][i]))\n",
    "    train['user', 'watched', 'anime'].edge_index = torch.tensor(train_edges).T\n",
    "    test['user', 'watched', 'anime'].edge_index = torch.tensor(test_edges).T\n",
    "    return train, test"
   ],
   "metadata": {
    "collapsed": false,
    "ExecuteTime": {
     "end_time": "2024-11-30T07:28:54.349615Z",
     "start_time": "2024-11-30T07:28:54.342752800Z"
    }
   },
   "id": "cd63348a37b41355"
  },
  {
   "cell_type": "code",
   "execution_count": 39,
   "outputs": [
    {
     "name": "stdout",
     "output_type": "stream",
     "text": [
      "HeteroData(\n",
      "  user={ node_id=[56549] },\n",
      "  anime={ node_id=[103] },\n",
      "  (user, watched, anime)={ edge_index=[2, 1229745] },\n",
      "  (anime, genre, anime)={ edge_index=[2, 3757] },\n",
      "  (anime, type, anime)={ edge_index=[2, 4759] }\n",
      ")\n",
      "HeteroData(\n",
      "  user={ node_id=[14137] },\n",
      "  anime={ node_id=[103] },\n",
      "  (user, watched, anime)={ edge_index=[2, 305335] },\n",
      "  (anime, genre, anime)={ edge_index=[2, 3757] },\n",
      "  (anime, type, anime)={ edge_index=[2, 4759] }\n",
      ")\n"
     ]
    }
   ],
   "source": [
    "train, test = train_test_split(data)\n",
    "print(train)\n",
    "print(test)"
   ],
   "metadata": {
    "collapsed": false,
    "ExecuteTime": {
     "end_time": "2024-11-30T07:28:58.274048500Z",
     "start_time": "2024-11-30T07:28:54.346615700Z"
    }
   },
   "id": "a0004679d605e6c0"
  },
  {
   "cell_type": "markdown",
   "source": [
    "# Model"
   ],
   "metadata": {
    "collapsed": false
   },
   "id": "b52454813f110835"
  },
  {
   "cell_type": "code",
   "execution_count": null,
   "outputs": [],
   "source": [
    "from torch_geometric.nn.conv import MessagePassing\n",
    "from torch_geometric.utils import softmax\n",
    "import torch.nn as nn\n",
    "import torch_scatter\n",
    "\n",
    "\n",
    "class DSKReG(MessagePassing):\n",
    "    def __init__(\n",
    "        self,\n",
    "        input_dim: int,\n",
    "        hidden_dim: int,\n",
    "        num_relations: int,\n",
    "        num_classes: int,\n",
    "        top_k: int = 5,\n",
    "    ) -> None:\n",
    "        super(DSKReG, self).__init__()\n",
    "\n",
    "        self.input_dim = input_dim\n",
    "        self.hidden_dim = hidden_dim\n",
    "\n",
    "        self.num_relations = num_relations\n",
    "        self.num_classes = num_classes\n",
    "\n",
    "        self.top_k = top_k\n",
    "\n",
    "        self.linear_rel = nn.Linear(hidden_dim * 2, 1, bias=True)\n",
    "        self.linear_agg = nn.Linear(hidden_dim, hidden_dim, bias=True)\n",
    "\n",
    "        self.relation_weight = nn.Parameter(torch.randn(hidden_dim))\n",
    "\n",
    "    def forward(self, x, edge_index, edge_type, user_emb, size=None):\n",
    "        x = self.propagate(\n",
    "            edge_index, x=x, edge_type=edge_type, user_emb=user_emb, size=size\n",
    "        )\n",
    "        return x\n",
    "\n",
    "    def message(self, x_i, x_j, index, ptr, size_i):\n",
    "        relevance_score = self.rel_scores(x_i, x_j)\n",
    "        return self.gumbel_softmax_sampling(relevance_score, index)\n",
    "\n",
    "    def aggregate(self, inputs, index, ptr=None, dim_size=None):\n",
    "        return torch_scatter.scatter(inputs, index, dim=0, reduce=\"mean\")\n",
    "\n",
    "    def rel_scores(self, relation_emb, neighbor_emb):\n",
    "        concat_emb = torch.cat([relation_emb, neighbor_emb], dim=-1)\n",
    "        return torch.softmax(self.linear_rel(concat_emb).squeeze(-1), dim=0)\n",
    "\n",
    "    def gumbel_softmax_sampling(self, relevance_score, index):\n",
    "        grouped_scores = softmax(relevance_score, index=index)\n",
    "\n",
    "        gumbel_noise = (\n",
    "            torch.rand_like(grouped_scores).log()\n",
    "            - torch.rand_like(grouped_scores).log()\n",
    "        )\n",
    "\n",
    "        softmax_logits = torch.softmax(\n",
    "            (torch.log(grouped_scores) + gumbel_noise) / self.tau, dim=0\n",
    "        )\n",
    "\n",
    "        _, top_k_indices = torch.topk(\n",
    "            softmax_logits, self.top_k, dim=0, largest=True, sorted=False, out=None\n",
    "        )\n",
    "\n",
    "        mask = torch.zeros_like(softmax_logits)\n",
    "        mask[top_k_indices] = 1.0\n",
    "\n",
    "        return mask * softmax_logits\n",
    "\n",
    "    def loss(self, user_emb, pos_item_emb, neg_item_emb, reg_lambda=0.001):\n",
    "        pos_scores = (user_emb * pos_item_emb).sum(dim=-1)\n",
    "        neg_scores = (user_emb * neg_item_emb).sum(dim=-1)\n",
    "\n",
    "        bpr_loss = -torch.log(torch.sigmoid(pos_scores - neg_scores)).mean()\n",
    "        l2_norm = (\n",
    "            user_emb.norm(2).pow(2)\n",
    "            + pos_item_emb.norm(2).pow(2)\n",
    "            + neg_item_emb.norm(2).pow(2)\n",
    "        )\n",
    "\n",
    "        return bpr_loss + reg_lambda * l2_norm"
   ],
   "metadata": {
    "collapsed": false
   },
   "id": "3b70a37e642ebc32"
  },
  {
   "cell_type": "code",
   "execution_count": 56,
   "outputs": [],
   "source": [
    "from torch_geometric.nn import SAGEConv\n",
    "from torch.nn import functional as F\n",
    "\n",
    "\n",
    "class DSKReG(torch.nn.Module):\n",
    "    def __init__(self, user_num, anime_num, hidden_channels, hidden_layers=2, dropout=0.5):\n",
    "        super().__init__()\n",
    "        self.user_num = user_num\n",
    "        self.anime_num = anime_num\n",
    "\n",
    "        self.dropout = nn.Dropout(dropout)\n",
    "\n",
    "        self.watched = nn.ModuleList(\n",
    "            [SAGEConv(1, hidden_channels)] + [SAGEConv(hidden_channels, hidden_channels) for _ in\n",
    "                                              range(hidden_layers - 1)])\n",
    "        self.genre = nn.ModuleList([SAGEConv(hidden_channels, hidden_channels) for _ in range(hidden_layers)])\n",
    "        self.tp = nn.ModuleList([SAGEConv(hidden_channels, hidden_channels) for _ in range(hidden_layers)])\n",
    "\n",
    "        self.user_linear = nn.Linear(hidden_channels, hidden_channels)\n",
    "        self.anime_linear = nn.Linear(hidden_channels, hidden_channels)\n",
    "\n",
    "    def cat(self, user, anime):\n",
    "        return torch.cat((user, anime))\n",
    "\n",
    "    def uncat(self, nodes):\n",
    "        return nodes[:-self.anime_num], nodes[-self.anime_num:]\n",
    "\n",
    "    def forward(self, data):\n",
    "        user = data['user'].node_id\n",
    "        anime = data['anime'].node_id\n",
    "\n",
    "        user = torch.ones_like(user)[:, None].float()\n",
    "        anime = torch.ones_like(anime)[:, None].float()\n",
    "\n",
    "        nodes = self.cat(user, anime)\n",
    "        for watched, genre, tp in zip(self.watched, self.genre, self.tp):\n",
    "            nodes = self.dropout(nodes)\n",
    "\n",
    "            nodes = watched(nodes, data['user', 'watched', 'anime'].edge_index)\n",
    "\n",
    "            user, anime = self.uncat(nodes)\n",
    "\n",
    "            anime = genre(anime, data['anime', 'genre', 'anime'].edge_index)\n",
    "\n",
    "            anime = tp(anime, data['anime', 'type', 'anime'].edge_index)\n",
    "            anime = F.relu(anime)\n",
    "\n",
    "            nodes = self.cat(user, anime)\n",
    "\n",
    "        user, anime = self.uncat(nodes)\n",
    "\n",
    "        user = self.user_linear(user)\n",
    "        anime = self.anime_linear(anime)\n",
    "        \n",
    "        user_idx = (torch.ones((data['anime'].num_nodes, 1)).int() * torch.arange(data['user'].num_nodes)).T.reshape(-1)\n",
    "        anime_idx = (torch.ones((data['user'].num_nodes, 1)).int() * torch.arange(data['anime'].num_nodes)).reshape(-1)\n",
    "        user = user[user_idx]\n",
    "        anime = anime[anime_idx]\n",
    "\n",
    "        return (user * anime).sum(-1)"
   ],
   "metadata": {
    "collapsed": false,
    "ExecuteTime": {
     "end_time": "2024-11-30T07:34:43.986009500Z",
     "start_time": "2024-11-30T07:34:43.972995700Z"
    }
   },
   "id": "eaf33122f6ea0d47"
  },
  {
   "cell_type": "code",
   "execution_count": 57,
   "outputs": [
    {
     "name": "stdout",
     "output_type": "stream",
     "text": [
      "tensor([ 0.3987,  0.3736,  0.2440,  ...,  0.2416, -0.1113, -0.0401],\n",
      "       grad_fn=<SumBackward1>)\n"
     ]
    }
   ],
   "source": [
    "model = DSKReG(data['user'].num_nodes, data['anime'].num_nodes, 64)\n",
    "print(model(train))"
   ],
   "metadata": {
    "collapsed": false,
    "ExecuteTime": {
     "end_time": "2024-11-30T07:34:46.212595700Z",
     "start_time": "2024-11-30T07:34:44.718770900Z"
    }
   },
   "id": "afeb1ef2d918075f"
  },
  {
   "cell_type": "markdown",
   "source": [
    "# Training"
   ],
   "metadata": {
    "collapsed": false
   },
   "id": "28e4505135c5316c"
  },
  {
   "cell_type": "code",
   "execution_count": 58,
   "outputs": [],
   "source": [
    "def all_edges(data):\n",
    "    edges = data['user', 'watched', 'anime'].edge_index.clone()\n",
    "    edges[0] -= data['anime'].num_nodes\n",
    "    edgs = torch.sparse_coo_tensor(edges, torch.ones(edges.shape[1]),\n",
    "                                   (data['user'].num_nodes, data['anime'].num_nodes)).to_dense()\n",
    "    return edgs.reshape(-1)\n",
    "\n",
    "\n",
    "def get_data(data):\n",
    "    indices = data['user', 'watched', 'anime'].edge_index\n",
    "    size = indices.shape[-1]\n",
    "    idx = list(range(size))\n",
    "    shuffle(idx)\n",
    "    idx = idx[:randint(int(size * 0.7), int(size * 0.9))]\n",
    "    input = data.clone()\n",
    "    input['user', 'watched', 'anime'].edge_index = indices[:, idx]\n",
    "    return input"
   ],
   "metadata": {
    "collapsed": false,
    "ExecuteTime": {
     "end_time": "2024-11-30T07:34:49.517472800Z",
     "start_time": "2024-11-30T07:34:49.507465100Z"
    }
   },
   "id": "7e3177f9cb82eb9"
  },
  {
   "cell_type": "code",
   "execution_count": 59,
   "outputs": [
    {
     "data": {
      "text/plain": "tensor([0., 0., 0.,  ..., 0., 0., 0.])"
     },
     "execution_count": 59,
     "metadata": {},
     "output_type": "execute_result"
    }
   ],
   "source": [
    "all_edges(test)"
   ],
   "metadata": {
    "collapsed": false,
    "ExecuteTime": {
     "end_time": "2024-11-30T07:34:50.054780100Z",
     "start_time": "2024-11-30T07:34:50.030173200Z"
    }
   },
   "id": "c71640d96207c0fc"
  },
  {
   "cell_type": "code",
   "execution_count": 60,
   "outputs": [
    {
     "name": "stdout",
     "output_type": "stream",
     "text": [
      "HeteroData(\n",
      "  user={ node_id=[56549] },\n",
      "  anime={ node_id=[103] },\n",
      "  (user, watched, anime)={ edge_index=[2, 1229745] },\n",
      "  (anime, genre, anime)={ edge_index=[2, 3757] },\n",
      "  (anime, type, anime)={ edge_index=[2, 4759] }\n",
      ")\n"
     ]
    },
    {
     "data": {
      "text/plain": "HeteroData(\n  user={ node_id=[56549] },\n  anime={ node_id=[103] },\n  (user, watched, anime)={ edge_index=[2, 904238] },\n  (anime, genre, anime)={ edge_index=[2, 3757] },\n  (anime, type, anime)={ edge_index=[2, 4759] }\n)"
     },
     "execution_count": 60,
     "metadata": {},
     "output_type": "execute_result"
    }
   ],
   "source": [
    "print(train)\n",
    "get_data(train)"
   ],
   "metadata": {
    "collapsed": false,
    "ExecuteTime": {
     "end_time": "2024-11-30T07:34:51.250895Z",
     "start_time": "2024-11-30T07:34:50.387157800Z"
    }
   },
   "id": "f7bfa9fc3caf848d"
  },
  {
   "cell_type": "code",
   "execution_count": 61,
   "outputs": [],
   "source": [
    "model = DSKReG(data['user'].num_nodes, data['anime'].num_nodes, 64, 2)\n",
    "loss_fn = nn.BCEWithLogitsLoss()\n",
    "optim = torch.optim.Adam(model.parameters())\n",
    "best = 1"
   ],
   "metadata": {
    "collapsed": false,
    "ExecuteTime": {
     "end_time": "2024-11-30T07:34:52.452245800Z",
     "start_time": "2024-11-30T07:34:52.440816Z"
    }
   },
   "id": "4eafd44438ed3f03"
  },
  {
   "cell_type": "code",
   "execution_count": 62,
   "outputs": [
    {
     "name": "stdout",
     "output_type": "stream",
     "text": [
      "Epoch 1...\n",
      "Train loss: 0.6760521531105042\n",
      "Test loss: 0.5353950262069702\n",
      "Epoch 2...\n",
      "Train loss: 0.5569848418235779\n",
      "Test loss: 0.5192142724990845\n",
      "Epoch 3...\n",
      "Train loss: 0.5505090355873108\n",
      "Test loss: 0.5373105406761169\n",
      "Epoch 4...\n",
      "Train loss: 0.5743471384048462\n",
      "Test loss: 0.5232699513435364\n",
      "Epoch 5...\n",
      "Train loss: 0.5463542342185974\n",
      "Test loss: 0.5142055749893188\n",
      "Epoch 6...\n",
      "Train loss: 0.5367845296859741\n",
      "Test loss: 0.5197067856788635\n",
      "Epoch 7...\n",
      "Train loss: 0.534759521484375\n",
      "Test loss: 0.527216911315918\n",
      "Epoch 8...\n",
      "Train loss: 0.5379371047019958\n",
      "Test loss: 0.5277498364448547\n",
      "Epoch 9...\n",
      "Train loss: 0.5404622554779053\n",
      "Test loss: 0.5232611298561096\n",
      "Epoch 10...\n",
      "Train loss: 0.5345408916473389\n",
      "Test loss: 0.5178993940353394\n"
     ]
    }
   ],
   "source": [
    "for epoch in range(10):\n",
    "    print(f'Epoch {epoch + 1}...')\n",
    "\n",
    "    model.train()\n",
    "    input = get_data(train)\n",
    "    output = all_edges(train)\n",
    "    out = model(input)\n",
    "    \n",
    "    loss = loss_fn(out, output)\n",
    "    \n",
    "    optim.zero_grad()\n",
    "    loss.backward()\n",
    "    optim.step()\n",
    "    print(f'Train loss: {loss.item()}')\n",
    "\n",
    "    model.eval()\n",
    "    input = get_data(test)\n",
    "    output = all_edges(test)\n",
    "    out = model(input)\n",
    "    \n",
    "    loss = loss_fn(out, output).item()\n",
    "    \n",
    "    if loss < best:\n",
    "        best = loss\n",
    "        torch.save(model, 'best.pt')\n",
    "    print(f'Test loss: {loss}')"
   ],
   "metadata": {
    "collapsed": false,
    "ExecuteTime": {
     "end_time": "2024-11-30T07:35:48.536080600Z",
     "start_time": "2024-11-30T07:34:55.383619400Z"
    }
   },
   "id": "cf91e12defe11626"
  },
  {
   "cell_type": "markdown",
   "source": [
    "# Predict top 10 anime for new user"
   ],
   "metadata": {
    "collapsed": false
   },
   "id": "135235a221b787cb"
  },
  {
   "cell_type": "code",
   "execution_count": 49,
   "outputs": [],
   "source": [
    "model = torch.load('best.pt')"
   ],
   "metadata": {
    "collapsed": false,
    "ExecuteTime": {
     "end_time": "2024-11-30T07:31:59.482816400Z",
     "start_time": "2024-11-30T07:31:59.441466200Z"
    }
   },
   "id": "9855a5ab914b5a16"
  },
  {
   "cell_type": "code",
   "execution_count": 50,
   "outputs": [
    {
     "name": "stdout",
     "output_type": "stream",
     "text": [
      "HeteroData(\n",
      "  user={ node_id=[70686] },\n",
      "  anime={ node_id=[103] },\n",
      "  (user, watched, anime)={ edge_index=[2, 1535080] },\n",
      "  (anime, genre, anime)={ edge_index=[2, 3757] },\n",
      "  (anime, type, anime)={ edge_index=[2, 4759] }\n",
      ")\n",
      "HeteroData(\n",
      "  user={ node_id=[70687] },\n",
      "  anime={ node_id=[103] },\n",
      "  (user, watched, anime)={ edge_index=[2, 1535083] },\n",
      "  (anime, genre, anime)={ edge_index=[2, 3757] },\n",
      "  (anime, type, anime)={ edge_index=[2, 4759] }\n",
      ")\n"
     ]
    }
   ],
   "source": [
    "new_data = data.clone()\n",
    "watched = ('Death Note', 'Sword Art Online', 'Naruto')\n",
    "ids = [mapping[i] for i in watched]\n",
    "id = new_data['user'].num_nodes\n",
    "add = torch.tensor([[id, id, id], ids])\n",
    "new_data['user', 'watched', 'anime'].edge_index = torch.cat((new_data['user', 'watched', 'anime'].edge_index, add), -1)\n",
    "new_data['user'].node_id = torch.cat((new_data['user'].node_id, torch.tensor([new_data['user'].num_nodes])))\n",
    "print(data)\n",
    "print(new_data)"
   ],
   "metadata": {
    "collapsed": false,
    "ExecuteTime": {
     "end_time": "2024-11-30T07:32:00.103849Z",
     "start_time": "2024-11-30T07:32:00.059530300Z"
    }
   },
   "id": "e6a9fbc03ca8e1a7"
  },
  {
   "cell_type": "code",
   "execution_count": 54,
   "outputs": [
    {
     "data": {
      "text/plain": "torch.Size([70687, 103])"
     },
     "execution_count": 54,
     "metadata": {},
     "output_type": "execute_result"
    }
   ],
   "source": [
    "logits = model(new_data).reshape(new_data['user'].num_nodes, new_data['anime'].num_nodes)\n",
    "logits.shape"
   ],
   "metadata": {
    "collapsed": false,
    "ExecuteTime": {
     "end_time": "2024-11-30T07:32:18.652614700Z",
     "start_time": "2024-11-30T07:32:16.871744700Z"
    }
   },
   "id": "c1e6f99d4a521387"
  },
  {
   "cell_type": "code",
   "execution_count": 55,
   "outputs": [
    {
     "data": {
      "text/plain": "['Higurashi no Naku Koro ni',\n 'Kimi ni Todoke',\n 'Ano Hi Mita Hana no Namae wo Bokutachi wa Mada Shiranai.',\n 'Bakemonogatari',\n 'Mahou Shoujo Madoka★Magica',\n 'Suzumiya Haruhi no Yuuutsu',\n 'Ore no Imouto ga Konnani Kawaii Wake ga Nai',\n 'Ouran Koukou Host Club',\n 'Ao no Exorcist',\n 'Gintama']"
     },
     "execution_count": 55,
     "metadata": {},
     "output_type": "execute_result"
    }
   ],
   "source": [
    "logits = logits[-1].cpu().detach().numpy().tolist()\n",
    "logits = [(j, i) for i, j in enumerate(logits)]\n",
    "logits.sort()\n",
    "reverse_mapping = {j: i for i, j in mapping.items()}\n",
    "result = [i for j, i in logits if i not in ids]\n",
    "[reverse_mapping[i] for i in result[:10]]"
   ],
   "metadata": {
    "collapsed": false,
    "ExecuteTime": {
     "end_time": "2024-11-30T07:32:19.420706600Z",
     "start_time": "2024-11-30T07:32:19.159265800Z"
    }
   },
   "id": "893a9cc88363d155"
  },
  {
   "cell_type": "code",
   "execution_count": null,
   "outputs": [],
   "source": [],
   "metadata": {
    "collapsed": false
   },
   "id": "a8116dcafda2d418"
  }
 ],
 "metadata": {
  "kernelspec": {
   "display_name": "Python 3",
   "language": "python",
   "name": "python3"
  },
  "language_info": {
   "codemirror_mode": {
    "name": "ipython",
    "version": 2
   },
   "file_extension": ".py",
   "mimetype": "text/x-python",
   "name": "python",
   "nbconvert_exporter": "python",
   "pygments_lexer": "ipython2",
   "version": "2.7.6"
  }
 },
 "nbformat": 4,
 "nbformat_minor": 5
}

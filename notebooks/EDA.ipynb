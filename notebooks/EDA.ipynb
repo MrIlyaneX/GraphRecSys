{
 "cells": [
  {
   "cell_type": "code",
   "execution_count": 28,
   "metadata": {},
   "outputs": [],
   "source": [
    "import torch_geometric\n",
    "from torch_geometric.data import Data\n",
    "import torch\n",
    "\n",
    "import networkx as nx\n",
    "\n",
    "import numpy as np\n",
    "import pandas as pd\n",
    "import matplotlib.pyplot as plt"
   ]
  },
  {
   "cell_type": "code",
   "execution_count": 2,
   "metadata": {},
   "outputs": [
    {
     "data": {
      "text/html": [
       "<div>\n",
       "<style scoped>\n",
       "    .dataframe tbody tr th:only-of-type {\n",
       "        vertical-align: middle;\n",
       "    }\n",
       "\n",
       "    .dataframe tbody tr th {\n",
       "        vertical-align: top;\n",
       "    }\n",
       "\n",
       "    .dataframe thead th {\n",
       "        text-align: right;\n",
       "    }\n",
       "</style>\n",
       "<table border=\"1\" class=\"dataframe\">\n",
       "  <thead>\n",
       "    <tr style=\"text-align: right;\">\n",
       "      <th></th>\n",
       "      <th>anime_id</th>\n",
       "      <th>name</th>\n",
       "      <th>genre</th>\n",
       "      <th>type</th>\n",
       "      <th>episodes</th>\n",
       "      <th>rating</th>\n",
       "      <th>members</th>\n",
       "    </tr>\n",
       "  </thead>\n",
       "  <tbody>\n",
       "    <tr>\n",
       "      <th>0</th>\n",
       "      <td>32281</td>\n",
       "      <td>Kimi no Na wa.</td>\n",
       "      <td>[Drama, Romance, School, Supernatural]</td>\n",
       "      <td>Movie</td>\n",
       "      <td>1</td>\n",
       "      <td>9.37</td>\n",
       "      <td>200630</td>\n",
       "    </tr>\n",
       "    <tr>\n",
       "      <th>1</th>\n",
       "      <td>5114</td>\n",
       "      <td>Fullmetal Alchemist: Brotherhood</td>\n",
       "      <td>[Action, Adventure, Drama, Fantasy, Magic, Mil...</td>\n",
       "      <td>TV</td>\n",
       "      <td>64</td>\n",
       "      <td>9.26</td>\n",
       "      <td>793665</td>\n",
       "    </tr>\n",
       "    <tr>\n",
       "      <th>2</th>\n",
       "      <td>28977</td>\n",
       "      <td>Gintama°</td>\n",
       "      <td>[Action, Comedy, Historical, Parody, Samurai, ...</td>\n",
       "      <td>TV</td>\n",
       "      <td>51</td>\n",
       "      <td>9.25</td>\n",
       "      <td>114262</td>\n",
       "    </tr>\n",
       "    <tr>\n",
       "      <th>3</th>\n",
       "      <td>9253</td>\n",
       "      <td>Steins;Gate</td>\n",
       "      <td>[Sci-Fi, Thriller]</td>\n",
       "      <td>TV</td>\n",
       "      <td>24</td>\n",
       "      <td>9.17</td>\n",
       "      <td>673572</td>\n",
       "    </tr>\n",
       "    <tr>\n",
       "      <th>4</th>\n",
       "      <td>9969</td>\n",
       "      <td>Gintama&amp;#039;</td>\n",
       "      <td>[Action, Comedy, Historical, Parody, Samurai, ...</td>\n",
       "      <td>TV</td>\n",
       "      <td>51</td>\n",
       "      <td>9.16</td>\n",
       "      <td>151266</td>\n",
       "    </tr>\n",
       "  </tbody>\n",
       "</table>\n",
       "</div>"
      ],
      "text/plain": [
       "   anime_id                              name  \\\n",
       "0     32281                    Kimi no Na wa.   \n",
       "1      5114  Fullmetal Alchemist: Brotherhood   \n",
       "2     28977                          Gintama°   \n",
       "3      9253                       Steins;Gate   \n",
       "4      9969                     Gintama&#039;   \n",
       "\n",
       "                                               genre   type episodes  rating  \\\n",
       "0             [Drama, Romance, School, Supernatural]  Movie        1    9.37   \n",
       "1  [Action, Adventure, Drama, Fantasy, Magic, Mil...     TV       64    9.26   \n",
       "2  [Action, Comedy, Historical, Parody, Samurai, ...     TV       51    9.25   \n",
       "3                                 [Sci-Fi, Thriller]     TV       24    9.17   \n",
       "4  [Action, Comedy, Historical, Parody, Samurai, ...     TV       51    9.16   \n",
       "\n",
       "   members  \n",
       "0   200630  \n",
       "1   793665  \n",
       "2   114262  \n",
       "3   673572  \n",
       "4   151266  "
      ]
     },
     "execution_count": 2,
     "metadata": {},
     "output_type": "execute_result"
    }
   ],
   "source": [
    "anime = pd.read_csv(\"../data/anime.csv\")\n",
    "rating = pd.read_csv(\"../data/rating.csv\")\n",
    "\n",
    "anime['genre'] = anime['genre'].str.split(', ')\n",
    "#anime = anime.dropna(axis=1)\n",
    "anime.head()"
   ]
  },
  {
   "cell_type": "code",
   "execution_count": 3,
   "metadata": {},
   "outputs": [
    {
     "name": "stdout",
     "output_type": "stream",
     "text": [
      "<class 'pandas.core.frame.DataFrame'>\n",
      "Index: 12017 entries, 0 to 12293\n",
      "Data columns (total 7 columns):\n",
      " #   Column    Non-Null Count  Dtype  \n",
      "---  ------    --------------  -----  \n",
      " 0   anime_id  12017 non-null  int64  \n",
      " 1   name      12017 non-null  object \n",
      " 2   genre     12017 non-null  object \n",
      " 3   type      12017 non-null  object \n",
      " 4   episodes  12017 non-null  object \n",
      " 5   rating    12017 non-null  float64\n",
      " 6   members   12017 non-null  int64  \n",
      "dtypes: float64(1), int64(2), object(4)\n",
      "memory usage: 751.1+ KB\n"
     ]
    }
   ],
   "source": [
    "anime = anime.dropna()\n",
    "anime.info()"
   ]
  },
  {
   "cell_type": "code",
   "execution_count": 4,
   "metadata": {},
   "outputs": [
    {
     "data": {
      "text/html": [
       "<div>\n",
       "<style scoped>\n",
       "    .dataframe tbody tr th:only-of-type {\n",
       "        vertical-align: middle;\n",
       "    }\n",
       "\n",
       "    .dataframe tbody tr th {\n",
       "        vertical-align: top;\n",
       "    }\n",
       "\n",
       "    .dataframe thead th {\n",
       "        text-align: right;\n",
       "    }\n",
       "</style>\n",
       "<table border=\"1\" class=\"dataframe\">\n",
       "  <thead>\n",
       "    <tr style=\"text-align: right;\">\n",
       "      <th></th>\n",
       "      <th>user_id</th>\n",
       "      <th>anime_id</th>\n",
       "      <th>rating</th>\n",
       "    </tr>\n",
       "  </thead>\n",
       "  <tbody>\n",
       "    <tr>\n",
       "      <th>0</th>\n",
       "      <td>1</td>\n",
       "      <td>20</td>\n",
       "      <td>-1</td>\n",
       "    </tr>\n",
       "    <tr>\n",
       "      <th>1</th>\n",
       "      <td>1</td>\n",
       "      <td>24</td>\n",
       "      <td>-1</td>\n",
       "    </tr>\n",
       "    <tr>\n",
       "      <th>2</th>\n",
       "      <td>1</td>\n",
       "      <td>79</td>\n",
       "      <td>-1</td>\n",
       "    </tr>\n",
       "    <tr>\n",
       "      <th>3</th>\n",
       "      <td>1</td>\n",
       "      <td>226</td>\n",
       "      <td>-1</td>\n",
       "    </tr>\n",
       "    <tr>\n",
       "      <th>4</th>\n",
       "      <td>1</td>\n",
       "      <td>241</td>\n",
       "      <td>-1</td>\n",
       "    </tr>\n",
       "  </tbody>\n",
       "</table>\n",
       "</div>"
      ],
      "text/plain": [
       "   user_id  anime_id  rating\n",
       "0        1        20      -1\n",
       "1        1        24      -1\n",
       "2        1        79      -1\n",
       "3        1       226      -1\n",
       "4        1       241      -1"
      ]
     },
     "execution_count": 4,
     "metadata": {},
     "output_type": "execute_result"
    }
   ],
   "source": [
    "rating.head()"
   ]
  },
  {
   "cell_type": "code",
   "execution_count": 22,
   "metadata": {},
   "outputs": [],
   "source": [
    "types = anime[\"type\"].unique()\n",
    "genres = anime[\"genre\"].explode().unique()\n",
    "\n",
    "type2id = {t:i for i, t in enumerate(types)}\n",
    "id2type = {i:t for i, t in enumerate(types)}\n",
    "\n",
    "genre2id = {g:i for i, g in enumerate(genres)}\n",
    "id2genre = {i:g for i, g in enumerate(genres)}\n",
    "\n",
    "unique_values = {\n",
    "    \"anime_id\" : anime[\"anime_id\"].unique(),\n",
    "    \"types\" : [type2id[t] for t in anime[\"type\"].unique()],\n",
    "    \"genre\" : [genre2id[g] for g in anime[\"genre\"].explode().unique()],\n",
    "    \"user_id\": rating[\"user_id\"].unique(),\n",
    "}"
   ]
  },
  {
   "cell_type": "code",
   "execution_count": 23,
   "metadata": {},
   "outputs": [],
   "source": [
    "G = nx.Graph()\n",
    "\n",
    "G.add_nodes_from(unique_values[\"anime_id\"])\n",
    "G.add_nodes_from(unique_values[\"types\"])\n",
    "G.add_nodes_from(unique_values[\"genre\"])\n",
    "G.add_nodes_from(unique_values[\"user_id\"])\n",
    "\n",
    "\n",
    "for anime_id in unique_values[\"anime_id\"]:\n",
    "    G.nodes[anime_id][\"rating\"] = anime[anime[\"anime_id\"] == anime_id][\"rating\"].values\n",
    "\n",
    "for _, row in anime.iterrows():\n",
    "    anime_id = row[\"anime_id\"]\n",
    "    \n",
    "    anime_type = type2id[row[\"type\"]]\n",
    "    genres = [genre2id[g] for g in row[\"genre\"]]\n",
    "\n",
    "    G.add_edge(anime_id, anime_type, relation=\"type\")\n",
    "    \n",
    "    for genre in genres:\n",
    "        G.add_edge(anime_id, genre, relation=\"genre\")\n",
    "\n",
    "for _, row in rating.iterrows():\n",
    "    user_id = row[\"user_id\"]\n",
    "    anime_id = row[\"anime_id\"]\n",
    "    rating_value = row[\"rating\"]\n",
    "\n",
    "    G.add_edge(user_id, anime_id, weight=rating_value, relation=\"rating\")"
   ]
  },
  {
   "cell_type": "code",
   "execution_count": 25,
   "metadata": {},
   "outputs": [],
   "source": [
    "edge_index = []\n",
    "edge_type = []\n",
    "for u, v, data in G.edges(data=True):\n",
    "    edge_index.append([u, v])\n",
    "    if data[\"relation\"] == \"rating\":\n",
    "        edge_type.append(0)\n",
    "    elif data[\"relation\"] == \"type\":\n",
    "        edge_type.append(1)\n",
    "    elif data[\"relation\"] == \"genre\":\n",
    "        edge_type.append(2)\n",
    "\n",
    "edge_index = torch.tensor(edge_index, dtype=torch.long).T\n",
    "edge_type = torch.tensor(edge_type, dtype=torch.long) "
   ]
  },
  {
   "cell_type": "code",
   "execution_count": null,
   "metadata": {},
   "outputs": [
    {
     "name": "stderr",
     "output_type": "stream",
     "text": [
      "/var/folders/v8/y55_th9545761gnl8qj270040000gn/T/ipykernel_84789/4195323992.py:8: UserWarning: Creating a tensor from a list of numpy.ndarrays is extremely slow. Please consider converting the list to a single numpy.ndarray with numpy.array() before converting to a tensor. (Triggered internally at /Users/runner/work/pytorch/pytorch/pytorch/torch/csrc/utils/tensor_new.cpp:278.)\n",
      "  x = torch.tensor(node_features, dtype=torch.float).view(-1, 1)\n"
     ]
    }
   ],
   "source": [
    "node_features = []\n",
    "for node in G:\n",
    "    if node in unique_values[\"anime_id\"]:\n",
    "        node_features.append(G.nodes[node][\"rating\"])\n",
    "    elif node in unique_values[\"genre\"]:\n",
    "        node_features.append([0])\n",
    "    elif node in unique_values[\"type\"]:\n",
    "        node_features.append([1])\n",
    "    elif node in unique_values[\"user_id\"]:\n",
    "        node_features.append([2])\n",
    "\n",
    "x = torch.tensor(node_features, dtype=torch.float).view(-1, 1)"
   ]
  },
  {
   "cell_type": "code",
   "execution_count": 29,
   "metadata": {},
   "outputs": [
    {
     "data": {
      "text/plain": [
       "Data(x=[73516, 1], edge_index=[2, 7851481], edge_type=[7851481])"
      ]
     },
     "execution_count": 29,
     "metadata": {},
     "output_type": "execute_result"
    }
   ],
   "source": [
    "data = Data(x=x, edge_index=edge_index, edge_type=edge_type)\n",
    "data"
   ]
  }
 ],
 "metadata": {
  "kernelspec": {
   "display_name": "Python 3",
   "language": "python",
   "name": "python3"
  },
  "language_info": {
   "codemirror_mode": {
    "name": "ipython",
    "version": 3
   },
   "file_extension": ".py",
   "mimetype": "text/x-python",
   "name": "python",
   "nbconvert_exporter": "python",
   "pygments_lexer": "ipython3",
   "version": "3.11.9"
  }
 },
 "nbformat": 4,
 "nbformat_minor": 2
}

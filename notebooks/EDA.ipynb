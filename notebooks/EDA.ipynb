{
 "cells": [
  {
   "cell_type": "code",
   "execution_count": 26,
   "metadata": {},
   "outputs": [],
   "source": [
    "import torch_geometric\n",
    "from torch_geometric.data import Data\n",
    "from torch_geometric.loader import DataLoader, LinkNeighborLoader\n",
    "import torch_geometric.transforms as T\n",
    "import torch\n",
    "\n",
    "import networkx as nx\n",
    "\n",
    "import numpy as np\n",
    "import pandas as pd\n",
    "import matplotlib.pyplot as plt\n",
    "import pickle"
   ]
  },
  {
   "cell_type": "code",
   "execution_count": 3,
   "metadata": {},
   "outputs": [
    {
     "data": {
      "text/html": [
       "<div>\n",
       "<style scoped>\n",
       "    .dataframe tbody tr th:only-of-type {\n",
       "        vertical-align: middle;\n",
       "    }\n",
       "\n",
       "    .dataframe tbody tr th {\n",
       "        vertical-align: top;\n",
       "    }\n",
       "\n",
       "    .dataframe thead th {\n",
       "        text-align: right;\n",
       "    }\n",
       "</style>\n",
       "<table border=\"1\" class=\"dataframe\">\n",
       "  <thead>\n",
       "    <tr style=\"text-align: right;\">\n",
       "      <th></th>\n",
       "      <th>anime_id</th>\n",
       "      <th>name</th>\n",
       "      <th>genre</th>\n",
       "      <th>type</th>\n",
       "      <th>episodes</th>\n",
       "      <th>rating</th>\n",
       "      <th>members</th>\n",
       "    </tr>\n",
       "  </thead>\n",
       "  <tbody>\n",
       "    <tr>\n",
       "      <th>0</th>\n",
       "      <td>32281</td>\n",
       "      <td>Kimi no Na wa.</td>\n",
       "      <td>[Drama, Romance, School, Supernatural]</td>\n",
       "      <td>Movie</td>\n",
       "      <td>1</td>\n",
       "      <td>9.37</td>\n",
       "      <td>200630</td>\n",
       "    </tr>\n",
       "    <tr>\n",
       "      <th>1</th>\n",
       "      <td>5114</td>\n",
       "      <td>Fullmetal Alchemist: Brotherhood</td>\n",
       "      <td>[Action, Adventure, Drama, Fantasy, Magic, Mil...</td>\n",
       "      <td>TV</td>\n",
       "      <td>64</td>\n",
       "      <td>9.26</td>\n",
       "      <td>793665</td>\n",
       "    </tr>\n",
       "    <tr>\n",
       "      <th>2</th>\n",
       "      <td>28977</td>\n",
       "      <td>Gintama°</td>\n",
       "      <td>[Action, Comedy, Historical, Parody, Samurai, ...</td>\n",
       "      <td>TV</td>\n",
       "      <td>51</td>\n",
       "      <td>9.25</td>\n",
       "      <td>114262</td>\n",
       "    </tr>\n",
       "    <tr>\n",
       "      <th>3</th>\n",
       "      <td>9253</td>\n",
       "      <td>Steins;Gate</td>\n",
       "      <td>[Sci-Fi, Thriller]</td>\n",
       "      <td>TV</td>\n",
       "      <td>24</td>\n",
       "      <td>9.17</td>\n",
       "      <td>673572</td>\n",
       "    </tr>\n",
       "    <tr>\n",
       "      <th>4</th>\n",
       "      <td>9969</td>\n",
       "      <td>Gintama&amp;#039;</td>\n",
       "      <td>[Action, Comedy, Historical, Parody, Samurai, ...</td>\n",
       "      <td>TV</td>\n",
       "      <td>51</td>\n",
       "      <td>9.16</td>\n",
       "      <td>151266</td>\n",
       "    </tr>\n",
       "  </tbody>\n",
       "</table>\n",
       "</div>"
      ],
      "text/plain": [
       "   anime_id                              name  \\\n",
       "0     32281                    Kimi no Na wa.   \n",
       "1      5114  Fullmetal Alchemist: Brotherhood   \n",
       "2     28977                          Gintama°   \n",
       "3      9253                       Steins;Gate   \n",
       "4      9969                     Gintama&#039;   \n",
       "\n",
       "                                               genre   type episodes  rating  \\\n",
       "0             [Drama, Romance, School, Supernatural]  Movie        1    9.37   \n",
       "1  [Action, Adventure, Drama, Fantasy, Magic, Mil...     TV       64    9.26   \n",
       "2  [Action, Comedy, Historical, Parody, Samurai, ...     TV       51    9.25   \n",
       "3                                 [Sci-Fi, Thriller]     TV       24    9.17   \n",
       "4  [Action, Comedy, Historical, Parody, Samurai, ...     TV       51    9.16   \n",
       "\n",
       "   members  \n",
       "0   200630  \n",
       "1   793665  \n",
       "2   114262  \n",
       "3   673572  \n",
       "4   151266  "
      ]
     },
     "execution_count": 3,
     "metadata": {},
     "output_type": "execute_result"
    }
   ],
   "source": [
    "anime = pd.read_csv(\"../data/anime.csv\")\n",
    "rating = pd.read_csv(\"../data/rating.csv\")\n",
    "\n",
    "anime['genre'] = anime['genre'].str.split(', ')\n",
    "#anime = anime.dropna(axis=1)\n",
    "anime.head()"
   ]
  },
  {
   "cell_type": "code",
   "execution_count": 4,
   "metadata": {},
   "outputs": [
    {
     "data": {
      "text/plain": [
       "anime_id      0\n",
       "name          0\n",
       "genre        62\n",
       "type         25\n",
       "episodes      0\n",
       "rating      230\n",
       "members       0\n",
       "dtype: int64"
      ]
     },
     "execution_count": 4,
     "metadata": {},
     "output_type": "execute_result"
    }
   ],
   "source": [
    "anime.isna().sum()"
   ]
  },
  {
   "cell_type": "code",
   "execution_count": 5,
   "metadata": {},
   "outputs": [
    {
     "name": "stdout",
     "output_type": "stream",
     "text": [
      "<class 'pandas.core.frame.DataFrame'>\n",
      "Index: 12017 entries, 0 to 12293\n",
      "Data columns (total 7 columns):\n",
      " #   Column    Non-Null Count  Dtype  \n",
      "---  ------    --------------  -----  \n",
      " 0   anime_id  12017 non-null  int64  \n",
      " 1   name      12017 non-null  object \n",
      " 2   genre     12017 non-null  object \n",
      " 3   type      12017 non-null  object \n",
      " 4   episodes  12017 non-null  object \n",
      " 5   rating    12017 non-null  float64\n",
      " 6   members   12017 non-null  int64  \n",
      "dtypes: float64(1), int64(2), object(4)\n",
      "memory usage: 751.1+ KB\n"
     ]
    }
   ],
   "source": [
    "anime = anime.dropna()\n",
    "anime.info()"
   ]
  },
  {
   "cell_type": "code",
   "execution_count": 6,
   "metadata": {},
   "outputs": [
    {
     "data": {
      "text/html": [
       "<div>\n",
       "<style scoped>\n",
       "    .dataframe tbody tr th:only-of-type {\n",
       "        vertical-align: middle;\n",
       "    }\n",
       "\n",
       "    .dataframe tbody tr th {\n",
       "        vertical-align: top;\n",
       "    }\n",
       "\n",
       "    .dataframe thead th {\n",
       "        text-align: right;\n",
       "    }\n",
       "</style>\n",
       "<table border=\"1\" class=\"dataframe\">\n",
       "  <thead>\n",
       "    <tr style=\"text-align: right;\">\n",
       "      <th></th>\n",
       "      <th>anime_id</th>\n",
       "      <th>name</th>\n",
       "      <th>genre</th>\n",
       "      <th>type</th>\n",
       "      <th>episodes</th>\n",
       "      <th>rating</th>\n",
       "      <th>members</th>\n",
       "    </tr>\n",
       "  </thead>\n",
       "  <tbody>\n",
       "    <tr>\n",
       "      <th>0</th>\n",
       "      <td>32281.5</td>\n",
       "      <td>Kimi no Na wa.</td>\n",
       "      <td>[Drama, Romance, School, Supernatural]</td>\n",
       "      <td>Movie</td>\n",
       "      <td>1</td>\n",
       "      <td>9.37</td>\n",
       "      <td>200630</td>\n",
       "    </tr>\n",
       "    <tr>\n",
       "      <th>1</th>\n",
       "      <td>5114.5</td>\n",
       "      <td>Fullmetal Alchemist: Brotherhood</td>\n",
       "      <td>[Action, Adventure, Drama, Fantasy, Magic, Mil...</td>\n",
       "      <td>TV</td>\n",
       "      <td>64</td>\n",
       "      <td>9.26</td>\n",
       "      <td>793665</td>\n",
       "    </tr>\n",
       "    <tr>\n",
       "      <th>2</th>\n",
       "      <td>28977.5</td>\n",
       "      <td>Gintama°</td>\n",
       "      <td>[Action, Comedy, Historical, Parody, Samurai, ...</td>\n",
       "      <td>TV</td>\n",
       "      <td>51</td>\n",
       "      <td>9.25</td>\n",
       "      <td>114262</td>\n",
       "    </tr>\n",
       "    <tr>\n",
       "      <th>3</th>\n",
       "      <td>9253.5</td>\n",
       "      <td>Steins;Gate</td>\n",
       "      <td>[Sci-Fi, Thriller]</td>\n",
       "      <td>TV</td>\n",
       "      <td>24</td>\n",
       "      <td>9.17</td>\n",
       "      <td>673572</td>\n",
       "    </tr>\n",
       "    <tr>\n",
       "      <th>4</th>\n",
       "      <td>9969.5</td>\n",
       "      <td>Gintama&amp;#039;</td>\n",
       "      <td>[Action, Comedy, Historical, Parody, Samurai, ...</td>\n",
       "      <td>TV</td>\n",
       "      <td>51</td>\n",
       "      <td>9.16</td>\n",
       "      <td>151266</td>\n",
       "    </tr>\n",
       "  </tbody>\n",
       "</table>\n",
       "</div>"
      ],
      "text/plain": [
       "   anime_id                              name  \\\n",
       "0   32281.5                    Kimi no Na wa.   \n",
       "1    5114.5  Fullmetal Alchemist: Brotherhood   \n",
       "2   28977.5                          Gintama°   \n",
       "3    9253.5                       Steins;Gate   \n",
       "4    9969.5                     Gintama&#039;   \n",
       "\n",
       "                                               genre   type episodes  rating  \\\n",
       "0             [Drama, Romance, School, Supernatural]  Movie        1    9.37   \n",
       "1  [Action, Adventure, Drama, Fantasy, Magic, Mil...     TV       64    9.26   \n",
       "2  [Action, Comedy, Historical, Parody, Samurai, ...     TV       51    9.25   \n",
       "3                                 [Sci-Fi, Thriller]     TV       24    9.17   \n",
       "4  [Action, Comedy, Historical, Parody, Samurai, ...     TV       51    9.16   \n",
       "\n",
       "   members  \n",
       "0   200630  \n",
       "1   793665  \n",
       "2   114262  \n",
       "3   673572  \n",
       "4   151266  "
      ]
     },
     "execution_count": 6,
     "metadata": {},
     "output_type": "execute_result"
    }
   ],
   "source": [
    "anime['anime_id'] = anime.loc[:, 'anime_id'].apply(lambda x: x + 0.5)\n",
    "anime.head()"
   ]
  },
  {
   "cell_type": "code",
   "execution_count": 7,
   "metadata": {},
   "outputs": [
    {
     "data": {
      "text/html": [
       "<div>\n",
       "<style scoped>\n",
       "    .dataframe tbody tr th:only-of-type {\n",
       "        vertical-align: middle;\n",
       "    }\n",
       "\n",
       "    .dataframe tbody tr th {\n",
       "        vertical-align: top;\n",
       "    }\n",
       "\n",
       "    .dataframe thead th {\n",
       "        text-align: right;\n",
       "    }\n",
       "</style>\n",
       "<table border=\"1\" class=\"dataframe\">\n",
       "  <thead>\n",
       "    <tr style=\"text-align: right;\">\n",
       "      <th></th>\n",
       "      <th>user_id</th>\n",
       "      <th>anime_id</th>\n",
       "      <th>rating</th>\n",
       "    </tr>\n",
       "  </thead>\n",
       "  <tbody>\n",
       "    <tr>\n",
       "      <th>0</th>\n",
       "      <td>1</td>\n",
       "      <td>20</td>\n",
       "      <td>-1</td>\n",
       "    </tr>\n",
       "    <tr>\n",
       "      <th>1</th>\n",
       "      <td>1</td>\n",
       "      <td>24</td>\n",
       "      <td>-1</td>\n",
       "    </tr>\n",
       "    <tr>\n",
       "      <th>2</th>\n",
       "      <td>1</td>\n",
       "      <td>79</td>\n",
       "      <td>-1</td>\n",
       "    </tr>\n",
       "    <tr>\n",
       "      <th>3</th>\n",
       "      <td>1</td>\n",
       "      <td>226</td>\n",
       "      <td>-1</td>\n",
       "    </tr>\n",
       "    <tr>\n",
       "      <th>4</th>\n",
       "      <td>1</td>\n",
       "      <td>241</td>\n",
       "      <td>-1</td>\n",
       "    </tr>\n",
       "  </tbody>\n",
       "</table>\n",
       "</div>"
      ],
      "text/plain": [
       "   user_id  anime_id  rating\n",
       "0        1        20      -1\n",
       "1        1        24      -1\n",
       "2        1        79      -1\n",
       "3        1       226      -1\n",
       "4        1       241      -1"
      ]
     },
     "execution_count": 7,
     "metadata": {},
     "output_type": "execute_result"
    }
   ],
   "source": [
    "rating.head()"
   ]
  },
  {
   "cell_type": "code",
   "execution_count": 8,
   "metadata": {},
   "outputs": [],
   "source": [
    "types = anime[\"type\"].unique()\n",
    "genres = anime[\"genre\"].explode().unique()\n",
    "\n",
    "type2id = {t:i for i, t in enumerate(types)}\n",
    "id2type = {i:t for i, t in enumerate(types)}\n",
    "\n",
    "genre2id = {g:i for i, g in enumerate(genres)}\n",
    "id2genre = {i:g for i, g in enumerate(genres)}\n",
    "\n",
    "\n",
    "unique_values = {\n",
    "    \"anime_id\" : anime[\"anime_id\"].unique(),\n",
    "    \"types\" : [type2id[t] for t in anime[\"type\"].unique()],\n",
    "    \"genre\" : [genre2id[g] for g in anime[\"genre\"].explode().unique()],\n",
    "    \"user_id\": rating[\"user_id\"].unique(),\n",
    "}"
   ]
  },
  {
   "cell_type": "code",
   "execution_count": 9,
   "metadata": {},
   "outputs": [],
   "source": [
    "G = nx.Graph()\n",
    "\n",
    "G.add_nodes_from(unique_values[\"anime_id\"], node_type='anime')\n",
    "G.add_nodes_from(unique_values[\"types\"], node_type='types')\n",
    "G.add_nodes_from(unique_values[\"genre\"], node_type='genre')\n",
    "G.add_nodes_from(unique_values[\"user_id\"], node_type='user')\n",
    "\n",
    "for anime_id in unique_values[\"anime_id\"]:\n",
    "    if G.nodes[anime_id]['node_type'] == 'anime':\n",
    "        G.nodes[anime_id][\"rating\"] = anime[anime[\"anime_id\"] == anime_id][\"rating\"].values\n",
    "\n",
    "for _, row in anime.iterrows():\n",
    "    anime_id = row[\"anime_id\"]\n",
    "    \n",
    "    anime_type = type2id[row[\"type\"]]\n",
    "    genres = [genre2id[g] for g in row[\"genre\"]]\n",
    "\n",
    "    G.add_edge(anime_id, anime_type, relation=\"type\")\n",
    "    \n",
    "    for genre in genres:\n",
    "        G.add_edge(anime_id, genre, relation=\"genre\")\n",
    "\n",
    "for _, row in rating.iterrows():\n",
    "    user_id = row[\"user_id\"]\n",
    "    anime_id = row[\"anime_id\"]\n",
    "    rating_value = row[\"rating\"]\n",
    "\n",
    "    G.add_edge(user_id, anime_id, weight=rating_value, relation=\"rating\")"
   ]
  },
  {
   "cell_type": "code",
   "execution_count": 10,
   "metadata": {},
   "outputs": [],
   "source": [
    "edge_index = []\n",
    "edge_type = []\n",
    "for u, v, data in G.edges(data=True):\n",
    "    edge_index.append([u, v])\n",
    "    if data[\"relation\"] == \"rating\":\n",
    "        edge_type.append(0)\n",
    "    elif data[\"relation\"] == \"type\":\n",
    "        edge_type.append(1)\n",
    "    elif data[\"relation\"] == \"genre\":\n",
    "        edge_type.append(2)\n",
    "\n",
    "edge_index = torch.tensor(edge_index, dtype=torch.long).T\n",
    "edge_type = torch.tensor(edge_type, dtype=torch.long) "
   ]
  },
  {
   "cell_type": "code",
   "execution_count": 11,
   "metadata": {},
   "outputs": [
    {
     "name": "stderr",
     "output_type": "stream",
     "text": [
      "C:\\Users\\relen\\AppData\\Local\\Temp\\ipykernel_20644\\1206910594.py:13: UserWarning: Creating a tensor from a list of numpy.ndarrays is extremely slow. Please consider converting the list to a single numpy.ndarray with numpy.array() before converting to a tensor. (Triggered internally at C:\\actions-runner\\_work\\pytorch\\pytorch\\builder\\windows\\pytorch\\torch\\csrc\\utils\\tensor_new.cpp:281.)\n",
      "  x = torch.tensor(node_features, dtype=torch.float).view(-1, 1)\n"
     ]
    }
   ],
   "source": [
    "node_features = []\n",
    "for node in G:\n",
    "    node_type = G.nodes[node]['node_type']\n",
    "    if node_type == 'anime':\n",
    "        node_features.append(G.nodes[node][\"rating\"])\n",
    "    elif node_type == 'genre':\n",
    "        node_features.append([0])\n",
    "    elif node_type == 'types':\n",
    "        node_features.append([1])\n",
    "    elif node_type == 'user':\n",
    "        node_features.append([2])\n",
    "\n",
    "x = torch.tensor(node_features, dtype=torch.float).view(-1, 1)"
   ]
  },
  {
   "cell_type": "code",
   "execution_count": 12,
   "metadata": {},
   "outputs": [
    {
     "data": {
      "text/plain": [
       "Data(x=[85533, 1], edge_index=[2, 7854025], edge_type=[7854025])"
      ]
     },
     "execution_count": 12,
     "metadata": {},
     "output_type": "execute_result"
    }
   ],
   "source": [
    "data = Data(x=x, edge_index=edge_index, edge_type=edge_type)\n",
    "data"
   ]
  },
  {
   "cell_type": "code",
   "execution_count": 13,
   "metadata": {},
   "outputs": [
    {
     "data": {
      "text/plain": [
       "True"
      ]
     },
     "execution_count": 13,
     "metadata": {},
     "output_type": "execute_result"
    }
   ],
   "source": [
    "data.is_directed()"
   ]
  },
  {
   "cell_type": "markdown",
   "metadata": {},
   "source": [
    "### Split the data into train, test, and validation sets on edge-level"
   ]
  },
  {
   "cell_type": "code",
   "execution_count": 14,
   "metadata": {},
   "outputs": [],
   "source": [
    "# Normalize and split the data\n",
    "transforms = T.Compose(\n",
    "    [\n",
    "        T.NormalizeFeatures(),\n",
    "        T.RandomLinkSplit(num_val=0.1, num_test=0.2)\n",
    "    ]\n",
    ")\n",
    "\n",
    "train_data, val_data, test_data = transforms(data)"
   ]
  },
  {
   "cell_type": "code",
   "execution_count": 15,
   "metadata": {},
   "outputs": [
    {
     "data": {
      "text/plain": [
       "Data(x=[85533, 1], edge_index=[2, 5497818], edge_type=[5497818], edge_label=[10995636], edge_label_index=[2, 10995636])"
      ]
     },
     "execution_count": 15,
     "metadata": {},
     "output_type": "execute_result"
    }
   ],
   "source": [
    "train_data"
   ]
  },
  {
   "cell_type": "code",
   "execution_count": 16,
   "metadata": {},
   "outputs": [
    {
     "data": {
      "text/plain": [
       "Data(x=[85533, 1], edge_index=[2, 5497818], edge_type=[5497818], edge_label=[1570804], edge_label_index=[2, 1570804])"
      ]
     },
     "execution_count": 16,
     "metadata": {},
     "output_type": "execute_result"
    }
   ],
   "source": [
    "val_data"
   ]
  },
  {
   "cell_type": "code",
   "execution_count": 17,
   "metadata": {},
   "outputs": [
    {
     "data": {
      "text/plain": [
       "Data(x=[85533, 1], edge_index=[2, 6283220], edge_type=[6283220], edge_label=[3141610], edge_label_index=[2, 3141610])"
      ]
     },
     "execution_count": 17,
     "metadata": {},
     "output_type": "execute_result"
    }
   ],
   "source": [
    "test_data"
   ]
  },
  {
   "cell_type": "code",
   "execution_count": 18,
   "metadata": {},
   "outputs": [],
   "source": [
    "BATCH_SIZE = 64\n",
    "\n",
    "# Create DataLoaders for all sets of data\n",
    "train_loader = LinkNeighborLoader(\n",
    "    data=train_data,\n",
    "    num_neighbors=[40, 40],\n",
    "    batch_size = BATCH_SIZE,\n",
    "    edge_label_index=train_data.edge_index,\n",
    "    edge_label=train_data.edge_label,\n",
    "    shuffle=True\n",
    ")\n",
    "\n",
    "test_loader = LinkNeighborLoader(\n",
    "    data=test_data,\n",
    "    num_neighbors=[40, 40],\n",
    "    batch_size = BATCH_SIZE,\n",
    "    edge_label_index=test_data.edge_index,\n",
    "    edge_label=test_data.edge_label,\n",
    "    shuffle=False\n",
    ")\n",
    "\n",
    "val_loader = LinkNeighborLoader(\n",
    "    data=val_data,\n",
    "    num_neighbors=[40, 40],\n",
    "    batch_size = BATCH_SIZE,\n",
    "    edge_label_index=val_data.edge_index,\n",
    "    edge_label=val_data.edge_label,\n",
    "    shuffle=False\n",
    ")"
   ]
  },
  {
   "cell_type": "code",
   "execution_count": 23,
   "metadata": {},
   "outputs": [
    {
     "name": "stdout",
     "output_type": "stream",
     "text": [
      "Train DataLoader length: 85904\n",
      "Test DataLoader length: 98176\n",
      "Val DataLoader length: 85904\n"
     ]
    }
   ],
   "source": [
    "print(f'Train DataLoader length: {len(train_loader)}')\n",
    "print(f'Test DataLoader length: {len(test_loader)}')\n",
    "print(f'Val DataLoader length: {len(val_loader)}')"
   ]
  },
  {
   "cell_type": "code",
   "execution_count": 25,
   "metadata": {},
   "outputs": [
    {
     "name": "stdout",
     "output_type": "stream",
     "text": [
      "Data(x=[10778, 1], edge_index=[2, 76193], edge_type=[76193], edge_label=[64], edge_label_index=[2, 64], n_id=[10778], e_id=[76193], num_sampled_nodes=[3], num_sampled_edges=[2], input_id=[64])\n"
     ]
    }
   ],
   "source": [
    "# Example of batch in train DataLoader\n",
    "for batch in train_loader:\n",
    "    print(batch)\n",
    "    break"
   ]
  },
  {
   "cell_type": "markdown",
   "metadata": {},
   "source": [
    "### Save everything into the \".pkl\" file (optional)"
   ]
  },
  {
   "cell_type": "code",
   "execution_count": 28,
   "metadata": {},
   "outputs": [],
   "source": [
    "data_dict = {\n",
    "    'train_loader': train_loader,\n",
    "    'test_loader': test_loader,\n",
    "    'val_loader': val_loader,\n",
    "    'data': data,\n",
    "    'graph': G\n",
    "}"
   ]
  },
  {
   "cell_type": "code",
   "execution_count": 30,
   "metadata": {},
   "outputs": [],
   "source": [
    "with open('../data/pickle_checkpoints/data_stats_v1.pkl', 'wb') as file:\n",
    "    pickle.dump(data_dict, file)"
   ]
  }
 ],
 "metadata": {
  "kernelspec": {
   "display_name": ".dkr_venv",
   "language": "python",
   "name": "python3"
  },
  "language_info": {
   "codemirror_mode": {
    "name": "ipython",
    "version": 3
   },
   "file_extension": ".py",
   "mimetype": "text/x-python",
   "name": "python",
   "nbconvert_exporter": "python",
   "pygments_lexer": "ipython3",
   "version": "3.10.11"
  }
 },
 "nbformat": 4,
 "nbformat_minor": 2
}
